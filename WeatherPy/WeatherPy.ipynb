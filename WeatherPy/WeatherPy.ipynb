{
 "cells": [
  {
   "cell_type": "markdown",
   "metadata": {},
   "source": [
    "# WeatherPy\n",
    "----\n",
    "\n",
    "#### Note\n",
    "* Instructions have been included for each segment. You do not have to follow them exactly, but they are included to help you think through the steps."
   ]
  },
  {
   "cell_type": "code",
   "execution_count": 1,
   "metadata": {
    "scrolled": true
   },
   "outputs": [],
   "source": [
    "# Dependencies and Setup\n",
    "import json\n",
    "import requests\n",
    "import pandas as pd\n",
    "import matplotlib.pyplot as plt\n",
    "from citipy import citipy\n",
    "import numpy as np\n",
    "from api_keys import weather_api_key"
   ]
  },
  {
   "cell_type": "markdown",
   "metadata": {},
   "source": [
    "## Generate Cities List"
   ]
  },
  {
   "cell_type": "code",
   "execution_count": 2,
   "metadata": {},
   "outputs": [
    {
     "name": "stdout",
     "output_type": "stream",
     "text": [
      "587\n"
     ]
    }
   ],
   "source": [
    "latitudes = np.random.uniform(-90,90,1500)\n",
    "longitudes = np.random.uniform(-180, 180, 1500)\n",
    "cities =[]\n",
    "coordinates = []\n",
    "coordinates = zip(latitudes, longitudes)\n",
    "for coordinate_pair in coordinates:\n",
    "    lat, lon = coordinate_pair\n",
    "    city = citipy.nearest_city(lat, lon).city_name\n",
    "    if city not in cities:\n",
    "        cities.append(city)\n",
    "print(len(cities))\n"
   ]
  },
  {
   "cell_type": "markdown",
   "metadata": {},
   "source": [
    "### Perform API Calls\n",
    "* Perform a weather check on each city using a series of successive API calls.\n",
    "* Include a print log of each city as it'sbeing processed (with the city number and city name).\n"
   ]
  },
  {
   "cell_type": "code",
   "execution_count": 39,
   "metadata": {
    "scrolled": false
   },
   "outputs": [
    {
     "name": "stdout",
     "output_type": "stream",
     "text": [
      "Beginning Data Retrieval\n",
      "----------------------------\n",
      "Processing Record 1 of Set 1 | busselton\n",
      "Processing Record 2 of Set 1 | khani\n",
      "Processing Record 3 of Set 1 | grindavik\n",
      "Processing Record 4 of Set 1 | attawapiskat\n",
      "City not found. Skipping...\n",
      "Processing Record 5 of Set 1 | grand gaube\n",
      "Processing Record 6 of Set 1 | kodiak\n",
      "Processing Record 7 of Set 1 | punta arenas\n",
      "Processing Record 8 of Set 1 | kupang\n",
      "Processing Record 9 of Set 1 | vaini\n",
      "Processing Record 10 of Set 1 | barentsburg\n",
      "City not found. Skipping...\n",
      "Processing Record 11 of Set 1 | tshane\n",
      "Processing Record 12 of Set 1 | chuy\n",
      "Processing Record 13 of Set 1 | nara\n",
      "Processing Record 14 of Set 1 | hobart\n",
      "Processing Record 15 of Set 1 | new norfolk\n",
      "Processing Record 16 of Set 1 | cookeville\n",
      "Processing Record 17 of Set 1 | mozarlandia\n",
      "Processing Record 18 of Set 1 | ushuaia\n",
      "Processing Record 19 of Set 1 | lebu\n",
      "Processing Record 20 of Set 1 | paamiut\n",
      "Processing Record 21 of Set 1 | ararat\n",
      "Processing Record 22 of Set 1 | uchiza\n",
      "Processing Record 23 of Set 1 | ewa beach\n",
      "Processing Record 24 of Set 1 | mataura\n",
      "Processing Record 25 of Set 1 | mar del plata\n",
      "Processing Record 26 of Set 1 | severo-kurilsk\n",
      "Processing Record 27 of Set 1 | murgab\n",
      "Processing Record 28 of Set 1 | saint-pierre\n",
      "Processing Record 29 of Set 1 | beloha\n",
      "Processing Record 30 of Set 1 | tocopilla\n",
      "Processing Record 31 of Set 1 | lethem\n",
      "Processing Record 32 of Set 1 | albany\n",
      "Processing Record 33 of Set 1 | shingu\n",
      "Processing Record 34 of Set 1 | mandera\n",
      "Processing Record 35 of Set 1 | mount isa\n",
      "Processing Record 36 of Set 1 | odienne\n",
      "Processing Record 37 of Set 1 | victoria\n",
      "Processing Record 38 of Set 1 | katra\n",
      "Processing Record 39 of Set 1 | bengkulu\n",
      "Processing Record 40 of Set 1 | ust-nera\n",
      "Processing Record 41 of Set 1 | halalo\n",
      "City not found. Skipping...\n",
      "Processing Record 42 of Set 1 | arriaga\n",
      "Processing Record 43 of Set 1 | kavaratti\n",
      "Processing Record 44 of Set 1 | rikitea\n",
      "Processing Record 45 of Set 1 | viedma\n",
      "Processing Record 46 of Set 1 | isangel\n",
      "Processing Record 47 of Set 1 | vaitupu\n",
      "City not found. Skipping...\n",
      "Processing Record 48 of Set 1 | tilichiki\n",
      "Processing Record 49 of Set 1 | tynda\n",
      "Processing Record 50 of Set 1 | faya\n",
      "Processing Record 1 of Set 2 | avarua\n",
      "Processing Record 2 of Set 2 | port alfred\n",
      "Processing Record 3 of Set 2 | bodden town\n",
      "Processing Record 4 of Set 2 | poum\n",
      "Processing Record 5 of Set 2 | la plaine\n",
      "Processing Record 6 of Set 2 | swellendam\n",
      "Processing Record 7 of Set 2 | nuuk\n",
      "Processing Record 8 of Set 2 | pendleton\n",
      "Processing Record 9 of Set 2 | sitka\n",
      "Processing Record 10 of Set 2 | hambantota\n",
      "Processing Record 11 of Set 2 | xichang\n",
      "Processing Record 12 of Set 2 | hithadhoo\n",
      "Processing Record 13 of Set 2 | yar-sale\n",
      "Processing Record 14 of Set 2 | grand river south east\n",
      "City not found. Skipping...\n",
      "Processing Record 15 of Set 2 | iberia\n",
      "Processing Record 16 of Set 2 | ribeira grande\n",
      "Processing Record 17 of Set 2 | bredasdorp\n",
      "Processing Record 18 of Set 2 | bluff\n",
      "Processing Record 19 of Set 2 | nouadhibou\n",
      "Processing Record 20 of Set 2 | tiksi\n",
      "Processing Record 21 of Set 2 | puerto ayora\n",
      "Processing Record 22 of Set 2 | yellowknife\n",
      "Processing Record 23 of Set 2 | karaul\n",
      "City not found. Skipping...\n",
      "Processing Record 24 of Set 2 | burica\n",
      "City not found. Skipping...\n",
      "Processing Record 25 of Set 2 | barcelos\n",
      "Processing Record 26 of Set 2 | meulaboh\n",
      "Processing Record 27 of Set 2 | hermanus\n",
      "Processing Record 28 of Set 2 | moerai\n",
      "Processing Record 29 of Set 2 | malakal\n",
      "Processing Record 30 of Set 2 | assomada\n",
      "Processing Record 31 of Set 2 | lasa\n",
      "Processing Record 32 of Set 2 | atuona\n",
      "Processing Record 33 of Set 2 | sentyabrskiy\n",
      "City not found. Skipping...\n",
      "Processing Record 34 of Set 2 | butaritari\n",
      "Processing Record 35 of Set 2 | hilo\n",
      "Processing Record 36 of Set 2 | torbay\n",
      "Processing Record 37 of Set 2 | thompson\n",
      "Processing Record 38 of Set 2 | naryan-mar\n",
      "Processing Record 39 of Set 2 | rabo de peixe\n",
      "Processing Record 40 of Set 2 | rawson\n",
      "Processing Record 41 of Set 2 | buraydah\n",
      "Processing Record 42 of Set 2 | aklavik\n",
      "Processing Record 43 of Set 2 | port moresby\n",
      "Processing Record 44 of Set 2 | jamestown\n",
      "Processing Record 45 of Set 2 | venezuela\n",
      "Processing Record 46 of Set 2 | sawtell\n",
      "Processing Record 47 of Set 2 | tucupita\n",
      "Processing Record 48 of Set 2 | airai\n",
      "Processing Record 49 of Set 2 | katangli\n",
      "Processing Record 50 of Set 2 | bambous virieux\n",
      "Processing Record 1 of Set 3 | hasaki\n",
      "Processing Record 2 of Set 3 | sechura\n",
      "Processing Record 3 of Set 3 | provideniya\n",
      "Processing Record 4 of Set 3 | nikolskoye\n",
      "Processing Record 5 of Set 3 | palabuhanratu\n",
      "City not found. Skipping...\n",
      "Processing Record 6 of Set 3 | ancud\n",
      "Processing Record 7 of Set 3 | kamenka\n",
      "Processing Record 8 of Set 3 | toliary\n",
      "City not found. Skipping...\n",
      "Processing Record 9 of Set 3 | tuktoyaktuk\n",
      "Processing Record 10 of Set 3 | upernavik\n",
      "Processing Record 11 of Set 3 | kapaa\n",
      "Processing Record 12 of Set 3 | faanui\n",
      "Processing Record 13 of Set 3 | guapimirim\n",
      "Processing Record 14 of Set 3 | tuatapere\n",
      "Processing Record 15 of Set 3 | vestmannaeyjar\n",
      "Processing Record 16 of Set 3 | pishin\n",
      "Processing Record 17 of Set 3 | atkinson\n",
      "Processing Record 18 of Set 3 | wolmaranstad\n",
      "City not found. Skipping...\n",
      "Processing Record 19 of Set 3 | port elizabeth\n",
      "Processing Record 20 of Set 3 | weiser\n",
      "Processing Record 21 of Set 3 | klaksvik\n",
      "Processing Record 22 of Set 3 | te anau\n",
      "Processing Record 23 of Set 3 | laguna\n",
      "Processing Record 24 of Set 3 | cap malheureux\n",
      "Processing Record 25 of Set 3 | geraldton\n",
      "Processing Record 26 of Set 3 | houma\n",
      "Processing Record 27 of Set 3 | ponta do sol\n",
      "Processing Record 28 of Set 3 | arrecife\n",
      "Processing Record 29 of Set 3 | muzhi\n",
      "Processing Record 30 of Set 3 | norman wells\n",
      "Processing Record 31 of Set 3 | yokadouma\n",
      "Processing Record 32 of Set 3 | tsabong\n",
      "Processing Record 33 of Set 3 | arlit\n",
      "Processing Record 34 of Set 3 | birin\n",
      "Processing Record 35 of Set 3 | puerto maldonado\n",
      "Processing Record 36 of Set 3 | humberto de campos\n",
      "Processing Record 37 of Set 3 | pevek\n",
      "Processing Record 38 of Set 3 | clyde river\n",
      "Processing Record 39 of Set 3 | saint-joseph\n",
      "Processing Record 40 of Set 3 | noumea\n",
      "Processing Record 41 of Set 3 | port lincoln\n",
      "Processing Record 42 of Set 3 | prince rupert\n",
      "Processing Record 43 of Set 3 | carnarvon\n",
      "Processing Record 44 of Set 3 | la ronge\n",
      "Processing Record 45 of Set 3 | kirsanov\n",
      "Processing Record 46 of Set 3 | dargaville\n",
      "Processing Record 47 of Set 3 | sidi bu zayd\n",
      "City not found. Skipping...\n",
      "Processing Record 48 of Set 3 | nizhneyansk\n",
      "City not found. Skipping...\n",
      "Processing Record 49 of Set 3 | sale\n",
      "Processing Record 50 of Set 3 | sobolevo\n",
      "Processing Record 1 of Set 4 | srednekolymsk\n",
      "Processing Record 2 of Set 4 | amderma\n",
      "City not found. Skipping...\n",
      "Processing Record 3 of Set 4 | rancho palos verdes\n",
      "Processing Record 4 of Set 4 | mapiri\n",
      "Processing Record 5 of Set 4 | salalah\n",
      "Processing Record 6 of Set 4 | saskylakh\n",
      "Processing Record 7 of Set 4 | georgetown\n",
      "Processing Record 8 of Set 4 | deputatskiy\n",
      "Processing Record 9 of Set 4 | mahebourg\n",
      "Processing Record 10 of Set 4 | cruzilia\n",
      "Processing Record 11 of Set 4 | chokurdakh\n",
      "Processing Record 12 of Set 4 | tomatlan\n",
      "Processing Record 13 of Set 4 | evensk\n",
      "Processing Record 14 of Set 4 | kavieng\n",
      "Processing Record 15 of Set 4 | castro\n",
      "Processing Record 16 of Set 4 | codrington\n",
      "Processing Record 17 of Set 4 | flinders\n",
      "Processing Record 18 of Set 4 | bankura\n",
      "Processing Record 19 of Set 4 | dalbandin\n",
      "Processing Record 20 of Set 4 | mezen\n",
      "Processing Record 21 of Set 4 | saint-philippe\n",
      "Processing Record 22 of Set 4 | avera\n",
      "Processing Record 23 of Set 4 | aflu\n",
      "City not found. Skipping...\n",
      "Processing Record 24 of Set 4 | saldanha\n",
      "Processing Record 25 of Set 4 | sabzevar\n",
      "Processing Record 26 of Set 4 | colares\n",
      "Processing Record 27 of Set 4 | zhangye\n",
      "Processing Record 28 of Set 4 | cape town\n",
      "Processing Record 29 of Set 4 | ixtapa\n",
      "Processing Record 30 of Set 4 | rungata\n",
      "City not found. Skipping...\n",
      "Processing Record 31 of Set 4 | kargasok\n",
      "Processing Record 32 of Set 4 | broome\n",
      "Processing Record 33 of Set 4 | taoudenni\n",
      "Processing Record 34 of Set 4 | sao filipe\n",
      "Processing Record 35 of Set 4 | malinovoye ozero\n",
      "Processing Record 36 of Set 4 | rocha\n",
      "Processing Record 37 of Set 4 | yatou\n",
      "Processing Record 38 of Set 4 | tarudant\n",
      "City not found. Skipping...\n",
      "Processing Record 39 of Set 4 | saleaula\n"
     ]
    },
    {
     "name": "stdout",
     "output_type": "stream",
     "text": [
      "City not found. Skipping...\n",
      "Processing Record 40 of Set 4 | marsh harbour\n",
      "Processing Record 41 of Set 4 | arraial do cabo\n",
      "Processing Record 42 of Set 4 | hondo\n",
      "Processing Record 43 of Set 4 | kuche\n",
      "City not found. Skipping...\n",
      "Processing Record 44 of Set 4 | henties bay\n",
      "Processing Record 45 of Set 4 | diapaga\n",
      "Processing Record 46 of Set 4 | cherskiy\n",
      "Processing Record 47 of Set 4 | tasbuget\n",
      "City not found. Skipping...\n",
      "Processing Record 48 of Set 4 | spencer\n",
      "Processing Record 49 of Set 4 | egvekinot\n",
      "Processing Record 50 of Set 4 | magdalena\n",
      "Processing Record 1 of Set 5 | sindor\n",
      "Processing Record 2 of Set 5 | alghero\n",
      "Processing Record 3 of Set 5 | cantaura\n",
      "Processing Record 4 of Set 5 | qaanaaq\n",
      "Processing Record 5 of Set 5 | san isidro\n",
      "Processing Record 6 of Set 5 | umm lajj\n",
      "Processing Record 7 of Set 5 | ilorin\n",
      "Processing Record 8 of Set 5 | ust-karsk\n",
      "Processing Record 9 of Set 5 | necochea\n",
      "Processing Record 10 of Set 5 | olinda\n",
      "Processing Record 11 of Set 5 | barcelona\n",
      "Processing Record 12 of Set 5 | illoqqortoormiut\n",
      "City not found. Skipping...\n",
      "Processing Record 13 of Set 5 | hobyo\n",
      "Processing Record 14 of Set 5 | termiz\n",
      "Processing Record 15 of Set 5 | taolanaro\n",
      "City not found. Skipping...\n",
      "Processing Record 16 of Set 5 | kaitangata\n",
      "Processing Record 17 of Set 5 | lekoni\n",
      "Processing Record 18 of Set 5 | tsihombe\n",
      "City not found. Skipping...\n",
      "Processing Record 19 of Set 5 | iqaluit\n",
      "Processing Record 20 of Set 5 | gorontalo\n",
      "Processing Record 21 of Set 5 | half moon bay\n",
      "Processing Record 22 of Set 5 | north platte\n",
      "Processing Record 23 of Set 5 | kloulklubed\n",
      "Processing Record 24 of Set 5 | mackay\n",
      "Processing Record 25 of Set 5 | banda aceh\n",
      "Processing Record 26 of Set 5 | kalyazin\n",
      "Processing Record 27 of Set 5 | east london\n",
      "Processing Record 28 of Set 5 | hofn\n",
      "Processing Record 29 of Set 5 | taunggyi\n",
      "Processing Record 30 of Set 5 | ahtopol\n",
      "Processing Record 31 of Set 5 | strezhevoy\n",
      "Processing Record 32 of Set 5 | lagoa\n",
      "Processing Record 33 of Set 5 | nizwa\n",
      "Processing Record 34 of Set 5 | boende\n",
      "Processing Record 35 of Set 5 | esperance\n",
      "Processing Record 36 of Set 5 | ola\n",
      "Processing Record 37 of Set 5 | marzuq\n",
      "Processing Record 38 of Set 5 | alekseyevsk\n",
      "Processing Record 39 of Set 5 | kyren\n",
      "Processing Record 40 of Set 5 | mys shmidta\n",
      "City not found. Skipping...\n",
      "Processing Record 41 of Set 5 | labutta\n",
      "City not found. Skipping...\n",
      "Processing Record 42 of Set 5 | barrow\n",
      "Processing Record 43 of Set 5 | sumenep\n",
      "Processing Record 44 of Set 5 | pangoa\n",
      "Processing Record 45 of Set 5 | gillette\n",
      "Processing Record 46 of Set 5 | kudat\n",
      "Processing Record 47 of Set 5 | kaoma\n",
      "Processing Record 48 of Set 5 | pudozh\n",
      "Processing Record 49 of Set 5 | camopi\n",
      "Processing Record 50 of Set 5 | beringovskiy\n",
      "Processing Record 1 of Set 6 | oistins\n",
      "Processing Record 2 of Set 6 | kishtwar\n",
      "Processing Record 3 of Set 6 | ranong\n",
      "Processing Record 4 of Set 6 | ostrovnoy\n",
      "Processing Record 5 of Set 6 | kahului\n",
      "Processing Record 6 of Set 6 | port macquarie\n",
      "Processing Record 7 of Set 6 | quelimane\n",
      "Processing Record 8 of Set 6 | takaka\n",
      "Processing Record 9 of Set 6 | galveston\n",
      "Processing Record 10 of Set 6 | samusu\n",
      "City not found. Skipping...\n",
      "Processing Record 11 of Set 6 | hauterive\n",
      "Processing Record 12 of Set 6 | guerrero negro\n",
      "Processing Record 13 of Set 6 | redmond\n",
      "Processing Record 14 of Set 6 | daru\n",
      "Processing Record 15 of Set 6 | acuna\n",
      "City not found. Skipping...\n",
      "Processing Record 16 of Set 6 | talnakh\n",
      "Processing Record 17 of Set 6 | lompoc\n",
      "Processing Record 18 of Set 6 | sabha\n",
      "Processing Record 19 of Set 6 | kungurtug\n",
      "Processing Record 20 of Set 6 | dikson\n",
      "Processing Record 21 of Set 6 | minab\n",
      "Processing Record 22 of Set 6 | fuengirola\n",
      "Processing Record 23 of Set 6 | muros\n",
      "Processing Record 24 of Set 6 | tadine\n",
      "Processing Record 25 of Set 6 | warkworth\n",
      "Processing Record 26 of Set 6 | lagunas\n",
      "Processing Record 27 of Set 6 | kalomo\n",
      "City not found. Skipping...\n",
      "Processing Record 28 of Set 6 | dalvik\n",
      "Processing Record 29 of Set 6 | lata\n",
      "Processing Record 30 of Set 6 | coahuayana\n",
      "Processing Record 31 of Set 6 | huarmey\n",
      "Processing Record 32 of Set 6 | solovetskiy\n",
      "City not found. Skipping...\n",
      "Processing Record 33 of Set 6 | luderitz\n",
      "Processing Record 34 of Set 6 | souillac\n",
      "Processing Record 35 of Set 6 | itarema\n",
      "Processing Record 36 of Set 6 | bethel\n",
      "Processing Record 37 of Set 6 | kamaishi\n",
      "Processing Record 38 of Set 6 | lorengau\n",
      "Processing Record 39 of Set 6 | progreso\n",
      "Processing Record 40 of Set 6 | igrim\n",
      "Processing Record 41 of Set 6 | mende\n",
      "Processing Record 42 of Set 6 | port hedland\n",
      "Processing Record 43 of Set 6 | cidreira\n",
      "Processing Record 44 of Set 6 | miandrivazo\n",
      "Processing Record 45 of Set 6 | namatanai\n",
      "Processing Record 46 of Set 6 | flin flon\n",
      "Processing Record 47 of Set 6 | macae\n",
      "Processing Record 48 of Set 6 | leningradskiy\n",
      "Processing Record 49 of Set 6 | marcona\n",
      "City not found. Skipping...\n",
      "Processing Record 50 of Set 6 | abu dhabi\n",
      "Processing Record 1 of Set 7 | nsanje\n",
      "Processing Record 2 of Set 7 | millinocket\n",
      "Processing Record 3 of Set 7 | warqla\n",
      "City not found. Skipping...\n",
      "Processing Record 4 of Set 7 | santa cruz cabralia\n",
      "Processing Record 5 of Set 7 | tsilna\n",
      "Processing Record 6 of Set 7 | azanka\n",
      "Processing Record 7 of Set 7 | gilbues\n",
      "Processing Record 8 of Set 7 | fort nelson\n",
      "Processing Record 9 of Set 7 | sisimiut\n",
      "Processing Record 10 of Set 7 | samarai\n",
      "Processing Record 11 of Set 7 | miraflores\n",
      "Processing Record 12 of Set 7 | tahta\n",
      "Processing Record 13 of Set 7 | ossora\n",
      "Processing Record 14 of Set 7 | san patricio\n",
      "Processing Record 15 of Set 7 | moree\n",
      "Processing Record 16 of Set 7 | saint anthony\n",
      "Processing Record 17 of Set 7 | hamilton\n",
      "Processing Record 18 of Set 7 | baboua\n",
      "City not found. Skipping...\n",
      "Processing Record 19 of Set 7 | cockburn town\n",
      "Processing Record 20 of Set 7 | trairi\n",
      "Processing Record 21 of Set 7 | parsabad\n",
      "Processing Record 22 of Set 7 | victor harbor\n",
      "Processing Record 23 of Set 7 | nhulunbuy\n",
      "Processing Record 24 of Set 7 | tasiilaq\n",
      "Processing Record 25 of Set 7 | emerald\n",
      "Processing Record 26 of Set 7 | shatrovo\n",
      "Processing Record 27 of Set 7 | bilma\n",
      "Processing Record 28 of Set 7 | jalu\n",
      "Processing Record 29 of Set 7 | san quintin\n",
      "Processing Record 30 of Set 7 | naron\n",
      "Processing Record 31 of Set 7 | touros\n",
      "Processing Record 32 of Set 7 | baherden\n",
      "Processing Record 33 of Set 7 | mayumba\n",
      "Processing Record 34 of Set 7 | sedro-woolley\n",
      "Processing Record 35 of Set 7 | jalingo\n",
      "Processing Record 36 of Set 7 | kirkwood\n",
      "Processing Record 37 of Set 7 | maldonado\n",
      "Processing Record 38 of Set 7 | lavrentiya\n",
      "Processing Record 39 of Set 7 | brae\n",
      "Processing Record 40 of Set 7 | madang\n",
      "Processing Record 41 of Set 7 | mecca\n",
      "Processing Record 42 of Set 7 | miramar\n",
      "Processing Record 43 of Set 7 | barabinsk\n",
      "Processing Record 44 of Set 7 | labuhan\n",
      "Processing Record 45 of Set 7 | cayenne\n",
      "Processing Record 46 of Set 7 | fuzhou\n",
      "Processing Record 47 of Set 7 | broken hill\n",
      "Processing Record 48 of Set 7 | samana\n",
      "Processing Record 49 of Set 7 | lolua\n",
      "City not found. Skipping...\n",
      "Processing Record 50 of Set 7 | lazaro cardenas\n",
      "Processing Record 1 of Set 8 | derzhavinsk\n",
      "Processing Record 2 of Set 8 | eminabad\n",
      "Processing Record 3 of Set 8 | roebourne\n",
      "Processing Record 4 of Set 8 | bojnurd\n",
      "Processing Record 5 of Set 8 | bolshoye sorokino\n",
      "City not found. Skipping...\n",
      "Processing Record 6 of Set 8 | siparia\n",
      "Processing Record 7 of Set 8 | umm kaddadah\n",
      "Processing Record 8 of Set 8 | nanortalik\n",
      "Processing Record 9 of Set 8 | bandarbeyla\n",
      "Processing Record 10 of Set 8 | takoradi\n",
      "Processing Record 11 of Set 8 | khatanga\n",
      "Processing Record 12 of Set 8 | matagami\n",
      "Processing Record 13 of Set 8 | inverell\n",
      "Processing Record 14 of Set 8 | veraval\n",
      "Processing Record 15 of Set 8 | isabela\n",
      "Processing Record 16 of Set 8 | marrakesh\n",
      "Processing Record 17 of Set 8 | solnechnyy\n",
      "Processing Record 18 of Set 8 | dingle\n",
      "Processing Record 19 of Set 8 | bereda\n",
      "Processing Record 20 of Set 8 | cabo san lucas\n",
      "Processing Record 21 of Set 8 | maneromango\n",
      "Processing Record 22 of Set 8 | kruisfontein\n",
      "Processing Record 23 of Set 8 | husavik\n",
      "Processing Record 24 of Set 8 | yulara\n",
      "Processing Record 25 of Set 8 | port blair\n",
      "Processing Record 26 of Set 8 | cabedelo\n",
      "Processing Record 27 of Set 8 | praia da vitoria\n",
      "Processing Record 28 of Set 8 | praya\n"
     ]
    },
    {
     "name": "stdout",
     "output_type": "stream",
     "text": [
      "Processing Record 29 of Set 8 | abeche\n",
      "Processing Record 30 of Set 8 | mabaruma\n",
      "Processing Record 31 of Set 8 | severodvinsk\n",
      "Processing Record 32 of Set 8 | maykain\n",
      "City not found. Skipping...\n",
      "Processing Record 33 of Set 8 | bushenyi\n",
      "Processing Record 34 of Set 8 | aykhal\n",
      "Processing Record 35 of Set 8 | chapais\n",
      "Processing Record 36 of Set 8 | ahuimanu\n",
      "Processing Record 37 of Set 8 | camacha\n",
      "Processing Record 38 of Set 8 | nelson bay\n",
      "Processing Record 39 of Set 8 | maidstone\n",
      "Processing Record 40 of Set 8 | sinyavskoye\n",
      "Processing Record 41 of Set 8 | kang\n",
      "Processing Record 42 of Set 8 | adrar\n",
      "Processing Record 43 of Set 8 | creston\n",
      "Processing Record 44 of Set 8 | yagodnoye\n",
      "Processing Record 45 of Set 8 | fortuna\n",
      "Processing Record 46 of Set 8 | sri aman\n",
      "Processing Record 47 of Set 8 | boa vista\n",
      "Processing Record 48 of Set 8 | estelle\n",
      "Processing Record 49 of Set 8 | sandy bay\n",
      "Processing Record 50 of Set 8 | madimba\n",
      "Processing Record 1 of Set 9 | puri\n",
      "Processing Record 2 of Set 9 | longyearbyen\n",
      "Processing Record 3 of Set 9 | saint-francois\n",
      "Processing Record 4 of Set 9 | khromtau\n",
      "Processing Record 5 of Set 9 | arona\n",
      "Processing Record 6 of Set 9 | gat\n",
      "Processing Record 7 of Set 9 | matara\n",
      "Processing Record 8 of Set 9 | ocampo\n",
      "Processing Record 9 of Set 9 | coquimbo\n",
      "Processing Record 10 of Set 9 | komsomolskiy\n",
      "Processing Record 11 of Set 9 | karamea\n",
      "City not found. Skipping...\n",
      "Processing Record 12 of Set 9 | karratha\n",
      "Processing Record 13 of Set 9 | yashkino\n",
      "Processing Record 14 of Set 9 | vanavara\n",
      "Processing Record 15 of Set 9 | calama\n",
      "Processing Record 16 of Set 9 | hagerstown\n",
      "Processing Record 17 of Set 9 | tautira\n",
      "Processing Record 18 of Set 9 | price\n",
      "Processing Record 19 of Set 9 | pontianak\n",
      "Processing Record 20 of Set 9 | sijunjung\n",
      "Processing Record 21 of Set 9 | biak\n",
      "Processing Record 22 of Set 9 | pangnirtung\n",
      "Processing Record 23 of Set 9 | amapa\n",
      "Processing Record 24 of Set 9 | helong\n",
      "Processing Record 25 of Set 9 | arraias\n",
      "Processing Record 26 of Set 9 | hakkari\n",
      "Processing Record 27 of Set 9 | grand centre\n",
      "City not found. Skipping...\n",
      "Processing Record 28 of Set 9 | harper\n",
      "Processing Record 29 of Set 9 | san ramon\n",
      "Processing Record 30 of Set 9 | igarka\n",
      "Processing Record 31 of Set 9 | buqayq\n",
      "City not found. Skipping...\n",
      "Processing Record 32 of Set 9 | ilulissat\n",
      "Processing Record 33 of Set 9 | mehamn\n",
      "Processing Record 34 of Set 9 | innisfail\n",
      "Processing Record 35 of Set 9 | pattoki\n",
      "Processing Record 36 of Set 9 | council bluffs\n",
      "Processing Record 37 of Set 9 | narsaq\n",
      "Processing Record 38 of Set 9 | katsuura\n",
      "Processing Record 39 of Set 9 | beidao\n",
      "Processing Record 40 of Set 9 | elbistan\n",
      "Processing Record 41 of Set 9 | bolungarvik\n",
      "City not found. Skipping...\n",
      "Processing Record 42 of Set 9 | camana\n",
      "Processing Record 43 of Set 9 | umzimvubu\n",
      "City not found. Skipping...\n",
      "Processing Record 44 of Set 9 | sept-iles\n",
      "Processing Record 45 of Set 9 | saint george\n",
      "Processing Record 46 of Set 9 | dukat\n",
      "Processing Record 47 of Set 9 | tocache\n",
      "Processing Record 48 of Set 9 | basco\n",
      "Processing Record 49 of Set 9 | petropavlovsk-kamchatskiy\n",
      "Processing Record 50 of Set 9 | beamsville\n",
      "Processing Record 1 of Set 10 | moengo\n",
      "Processing Record 2 of Set 10 | cam ranh\n",
      "Processing Record 3 of Set 10 | los llanos de aridane\n",
      "Processing Record 4 of Set 10 | havoysund\n",
      "Processing Record 5 of Set 10 | saint-jean-port-joli\n",
      "Processing Record 6 of Set 10 | nikki\n",
      "Processing Record 7 of Set 10 | shahpur\n",
      "Processing Record 8 of Set 10 | rawannawi\n",
      "City not found. Skipping...\n",
      "Processing Record 9 of Set 10 | bonthe\n",
      "Processing Record 10 of Set 10 | stromness\n",
      "Processing Record 11 of Set 10 | hoi an\n",
      "Processing Record 12 of Set 10 | muskogee\n",
      "Processing Record 13 of Set 10 | vysokogornyy\n",
      "Processing Record 14 of Set 10 | menongue\n",
      "Processing Record 15 of Set 10 | miracema do tocantins\n",
      "Processing Record 16 of Set 10 | belushya guba\n",
      "City not found. Skipping...\n",
      "Processing Record 17 of Set 10 | raudeberg\n",
      "Processing Record 18 of Set 10 | wanning\n",
      "Processing Record 19 of Set 10 | leander\n",
      "Processing Record 20 of Set 10 | polunochnoye\n",
      "Processing Record 21 of Set 10 | gamba\n",
      "Processing Record 22 of Set 10 | laje\n",
      "Processing Record 23 of Set 10 | mumford\n",
      "Processing Record 24 of Set 10 | jizan\n",
      "Processing Record 25 of Set 10 | roblin\n",
      "Processing Record 26 of Set 10 | hihifo\n",
      "City not found. Skipping...\n",
      "Processing Record 27 of Set 10 | kabalo\n",
      "Processing Record 28 of Set 10 | mnogovershinnyy\n",
      "Processing Record 29 of Set 10 | yanam\n",
      "Processing Record 30 of Set 10 | beni mazar\n",
      "Processing Record 31 of Set 10 | ambon\n",
      "Processing Record 32 of Set 10 | mindelo\n",
      "Processing Record 33 of Set 10 | jieshi\n",
      "Processing Record 34 of Set 10 | quartucciu\n",
      "Processing Record 35 of Set 10 | gurgan\n",
      "City not found. Skipping...\n",
      "Processing Record 36 of Set 10 | tura\n",
      "Processing Record 37 of Set 10 | ures\n",
      "Processing Record 38 of Set 10 | yuci\n",
      "Processing Record 39 of Set 10 | revelstoke\n",
      "Processing Record 40 of Set 10 | belyy yar\n",
      "Processing Record 41 of Set 10 | cao bang\n",
      "Processing Record 42 of Set 10 | kangaatsiaq\n",
      "Processing Record 43 of Set 10 | gao\n",
      "Processing Record 44 of Set 10 | ust-kuyga\n",
      "Processing Record 45 of Set 10 | culaman\n",
      "Processing Record 46 of Set 10 | kankon\n",
      "Processing Record 47 of Set 10 | black river\n",
      "Processing Record 48 of Set 10 | constitucion\n",
      "Processing Record 49 of Set 10 | tabuk\n",
      "Processing Record 50 of Set 10 | ruteng\n",
      "Processing Record 1 of Set 11 | genc\n",
      "Processing Record 2 of Set 11 | okhotsk\n",
      "Processing Record 3 of Set 11 | wattegama\n",
      "Processing Record 4 of Set 11 | wajima\n",
      "Processing Record 5 of Set 11 | ulladulla\n",
      "Processing Record 6 of Set 11 | velika kladusa\n",
      "Processing Record 7 of Set 11 | chernyy yar\n",
      "Processing Record 8 of Set 11 | kigorobya\n",
      "Processing Record 9 of Set 11 | vaitape\n",
      "Processing Record 10 of Set 11 | surovikino\n",
      "Processing Record 11 of Set 11 | karangampel\n",
      "Processing Record 12 of Set 11 | manhuacu\n",
      "Processing Record 13 of Set 11 | sorong\n",
      "Processing Record 14 of Set 11 | chagda\n",
      "City not found. Skipping...\n",
      "Processing Record 15 of Set 11 | fairbanks\n",
      "Processing Record 16 of Set 11 | qaqortoq\n",
      "Processing Record 17 of Set 11 | belaya gora\n",
      "Processing Record 18 of Set 11 | kalabo\n",
      "Processing Record 19 of Set 11 | acari\n",
      "Processing Record 20 of Set 11 | warragul\n",
      "Processing Record 21 of Set 11 | luan\n",
      "Processing Record 22 of Set 11 | meadow lake\n",
      "Processing Record 23 of Set 11 | bara\n",
      "Processing Record 24 of Set 11 | encruzilhada\n",
      "Processing Record 25 of Set 11 | khovu-aksy\n",
      "Processing Record 26 of Set 11 | la sarre\n",
      "Processing Record 27 of Set 11 | bayir\n",
      "Processing Record 28 of Set 11 | amherstburg\n",
      "Processing Record 29 of Set 11 | merauke\n",
      "Processing Record 30 of Set 11 | baykit\n",
      "Processing Record 31 of Set 11 | calbuco\n",
      "Processing Record 32 of Set 11 | pacific grove\n",
      "Processing Record 33 of Set 11 | ust-kut\n",
      "Processing Record 34 of Set 11 | andenes\n",
      "Processing Record 35 of Set 11 | atar\n",
      "Processing Record 36 of Set 11 | oga\n",
      "Processing Record 37 of Set 11 | sambava\n",
      "Processing Record 38 of Set 11 | aksarka\n",
      "Processing Record 39 of Set 11 | banjarmasin\n",
      "Processing Record 40 of Set 11 | guarapari\n",
      "Processing Record 41 of Set 11 | nome\n",
      "Processing Record 42 of Set 11 | tefe\n",
      "Processing Record 43 of Set 11 | muisne\n",
      "Processing Record 44 of Set 11 | pokrovskoye\n",
      "Processing Record 45 of Set 11 | yirol\n",
      "City not found. Skipping...\n",
      "Processing Record 46 of Set 11 | verkh-usugli\n",
      "Processing Record 47 of Set 11 | kiama\n",
      "Processing Record 48 of Set 11 | xai-xai\n",
      "Processing Record 49 of Set 11 | pampierstad\n",
      "Processing Record 50 of Set 11 | kandrian\n",
      "Processing Record 1 of Set 12 | banska bystrica\n",
      "Processing Record 2 of Set 12 | betanzos\n",
      "Processing Record 3 of Set 12 | yialos\n",
      "City not found. Skipping...\n",
      "Processing Record 4 of Set 12 | padang\n",
      "Processing Record 5 of Set 12 | esso\n",
      "Processing Record 6 of Set 12 | rosarito\n",
      "Processing Record 7 of Set 12 | baishishan\n",
      "Processing Record 8 of Set 12 | mutsamudu\n",
      "City not found. Skipping...\n",
      "Processing Record 9 of Set 12 | vrangel\n",
      "Processing Record 10 of Set 12 | tsentralnyy\n",
      "City not found. Skipping...\n",
      "Processing Record 11 of Set 12 | zharkent\n",
      "Processing Record 12 of Set 12 | port-de-paix\n",
      "City not found. Skipping...\n",
      "Processing Record 13 of Set 12 | mangrol\n",
      "Processing Record 14 of Set 12 | caravelas\n",
      "Processing Record 15 of Set 12 | hutchinson\n"
     ]
    },
    {
     "name": "stdout",
     "output_type": "stream",
     "text": [
      "Processing Record 16 of Set 12 | la plata\n",
      "Processing Record 17 of Set 12 | boyarka\n",
      "Processing Record 18 of Set 12 | medea\n",
      "Processing Record 19 of Set 12 | alpena\n",
      "Processing Record 20 of Set 12 | zhigansk\n",
      "Processing Record 21 of Set 12 | fairview\n",
      "Processing Record 22 of Set 12 | beibei\n",
      "Processing Record 23 of Set 12 | calderitas\n",
      "Processing Record 24 of Set 12 | turayf\n",
      "Processing Record 25 of Set 12 | palmer\n",
      "Processing Record 26 of Set 12 | la asuncion\n",
      "Processing Record 27 of Set 12 | puerto el triunfo\n",
      "Processing Record 28 of Set 12 | catuday\n",
      "Processing Record 29 of Set 12 | ibra\n",
      "Processing Record 30 of Set 12 | manicore\n",
      "Processing Record 31 of Set 12 | richards bay\n",
      "Processing Record 32 of Set 12 | charcas\n",
      "Processing Record 33 of Set 12 | kysyl-syr\n",
      "Processing Record 34 of Set 12 | sangar\n",
      "Processing Record 35 of Set 12 | olafsvik\n",
      "Processing Record 36 of Set 12 | alta floresta\n",
      "Processing Record 37 of Set 12 | labytnangi\n",
      "----------------------------\n",
      "Data Retrieval Complete\n",
      "----------------------------\n"
     ]
    }
   ],
   "source": [
    "url = \"http://api.openweathermap.org/data/2.5/weather?\"\n",
    "units = \"imperial\"\n",
    "\n",
    "city_data = []\n",
    "\n",
    "print (\"Beginning Data Retrieval\")\n",
    "print(\"----------------------------\")\n",
    "\n",
    "count=1\n",
    "set=1\n",
    "for City in cities:\n",
    "    query_url = f\"{url}appid={weather_api_key}&units={units}&q={City}\"\n",
    "    print(f\"Processing Record {count} of Set {set} | {City}\")\n",
    "    weather = requests.get(query_url).json()\n",
    "    if count==50:\n",
    "            count = 1\n",
    "            set = set+1\n",
    "    else:\n",
    "            count = count +1  \n",
    "    try:\n",
    "        temp = weather['main']['temp']\n",
    "        humidity = weather['main']['humidity']\n",
    "        cloudiness = weather['clouds']['all']\n",
    "        wind = weather['wind']['speed']\n",
    "        lat = weather['coord']['lat']\n",
    "        lon = weather['coord']['lon']\n",
    "        name = weather['name']\n",
    "        city_data.append({\"City\":name, \"Latitude\":lat,\"Longitude\":lon,\"Temp (F)\":temp, \"Humidity (%)\":humidity,\"Cloudiness (%)\":cloudiness, \"Wind Speed (mph)\":wind})\n",
    "       \n",
    "    except:\n",
    "        print(\"City not found. Skipping...\")\n",
    "        pass\n",
    "\n",
    "print(\"----------------------------\")\n",
    "print(\"Data Retrieval Complete\")\n",
    "print(\"----------------------------\")"
   ]
  },
  {
   "cell_type": "markdown",
   "metadata": {},
   "source": [
    "### Convert Raw Data to DataFrame\n",
    "* Export the city data into a .csv.\n",
    "* Display the DataFrame"
   ]
  },
  {
   "cell_type": "code",
   "execution_count": 40,
   "metadata": {},
   "outputs": [
    {
     "data": {
      "text/html": [
       "<div>\n",
       "<style scoped>\n",
       "    .dataframe tbody tr th:only-of-type {\n",
       "        vertical-align: middle;\n",
       "    }\n",
       "\n",
       "    .dataframe tbody tr th {\n",
       "        vertical-align: top;\n",
       "    }\n",
       "\n",
       "    .dataframe thead th {\n",
       "        text-align: right;\n",
       "    }\n",
       "</style>\n",
       "<table border=\"1\" class=\"dataframe\">\n",
       "  <thead>\n",
       "    <tr style=\"text-align: right;\">\n",
       "      <th></th>\n",
       "      <th>City</th>\n",
       "      <th>Latitude</th>\n",
       "      <th>Longitude</th>\n",
       "      <th>Temp (F)</th>\n",
       "      <th>Humidity (%)</th>\n",
       "      <th>Cloudiness (%)</th>\n",
       "      <th>Wind Speed (mph)</th>\n",
       "    </tr>\n",
       "  </thead>\n",
       "  <tbody>\n",
       "    <tr>\n",
       "      <th>0</th>\n",
       "      <td>Busselton</td>\n",
       "      <td>-33.65</td>\n",
       "      <td>115.33</td>\n",
       "      <td>60.17</td>\n",
       "      <td>70</td>\n",
       "      <td>100</td>\n",
       "      <td>11.92</td>\n",
       "    </tr>\n",
       "    <tr>\n",
       "      <th>1</th>\n",
       "      <td>Khani</td>\n",
       "      <td>41.96</td>\n",
       "      <td>42.96</td>\n",
       "      <td>64.40</td>\n",
       "      <td>68</td>\n",
       "      <td>75</td>\n",
       "      <td>3.36</td>\n",
       "    </tr>\n",
       "    <tr>\n",
       "      <th>2</th>\n",
       "      <td>Grindavik</td>\n",
       "      <td>63.84</td>\n",
       "      <td>-22.43</td>\n",
       "      <td>41.00</td>\n",
       "      <td>86</td>\n",
       "      <td>40</td>\n",
       "      <td>6.93</td>\n",
       "    </tr>\n",
       "    <tr>\n",
       "      <th>3</th>\n",
       "      <td>Grand Gaube</td>\n",
       "      <td>-20.01</td>\n",
       "      <td>57.66</td>\n",
       "      <td>66.99</td>\n",
       "      <td>71</td>\n",
       "      <td>0</td>\n",
       "      <td>3.00</td>\n",
       "    </tr>\n",
       "    <tr>\n",
       "      <th>4</th>\n",
       "      <td>Saint Paul Harbor</td>\n",
       "      <td>57.79</td>\n",
       "      <td>-152.41</td>\n",
       "      <td>32.00</td>\n",
       "      <td>89</td>\n",
       "      <td>1</td>\n",
       "      <td>12.75</td>\n",
       "    </tr>\n",
       "  </tbody>\n",
       "</table>\n",
       "</div>"
      ],
      "text/plain": [
       "                City  Latitude  Longitude  Temp (F)  Humidity (%)  \\\n",
       "0          Busselton    -33.65     115.33     60.17            70   \n",
       "1              Khani     41.96      42.96     64.40            68   \n",
       "2          Grindavik     63.84     -22.43     41.00            86   \n",
       "3        Grand Gaube    -20.01      57.66     66.99            71   \n",
       "4  Saint Paul Harbor     57.79    -152.41     32.00            89   \n",
       "\n",
       "   Cloudiness (%)  Wind Speed (mph)  \n",
       "0             100             11.92  \n",
       "1              75              3.36  \n",
       "2              40              6.93  \n",
       "3               0              3.00  \n",
       "4               1             12.75  "
      ]
     },
     "execution_count": 40,
     "metadata": {},
     "output_type": "execute_result"
    }
   ],
   "source": [
    "city_data = pd.DataFrame(city_data)\n",
    "city_data.to_csv(\"Weather_City_Data.csv\", encoding=\"utf-8\", index=False, header=True)\n",
    "city_data.head()"
   ]
  },
  {
   "cell_type": "code",
   "execution_count": 41,
   "metadata": {},
   "outputs": [
    {
     "data": {
      "text/html": [
       "<div>\n",
       "<style scoped>\n",
       "    .dataframe tbody tr th:only-of-type {\n",
       "        vertical-align: middle;\n",
       "    }\n",
       "\n",
       "    .dataframe tbody tr th {\n",
       "        vertical-align: top;\n",
       "    }\n",
       "\n",
       "    .dataframe thead th {\n",
       "        text-align: right;\n",
       "    }\n",
       "</style>\n",
       "<table border=\"1\" class=\"dataframe\">\n",
       "  <thead>\n",
       "    <tr style=\"text-align: right;\">\n",
       "      <th></th>\n",
       "      <th>Latitude</th>\n",
       "      <th>Longitude</th>\n",
       "      <th>Temp (F)</th>\n",
       "      <th>Humidity (%)</th>\n",
       "      <th>Cloudiness (%)</th>\n",
       "      <th>Wind Speed (mph)</th>\n",
       "    </tr>\n",
       "  </thead>\n",
       "  <tbody>\n",
       "    <tr>\n",
       "      <th>count</th>\n",
       "      <td>537.000000</td>\n",
       "      <td>537.000000</td>\n",
       "      <td>537.000000</td>\n",
       "      <td>537.000000</td>\n",
       "      <td>537.000000</td>\n",
       "      <td>537.000000</td>\n",
       "    </tr>\n",
       "    <tr>\n",
       "      <th>mean</th>\n",
       "      <td>20.000950</td>\n",
       "      <td>17.974655</td>\n",
       "      <td>58.870726</td>\n",
       "      <td>70.698324</td>\n",
       "      <td>47.055866</td>\n",
       "      <td>8.089236</td>\n",
       "    </tr>\n",
       "    <tr>\n",
       "      <th>std</th>\n",
       "      <td>33.112324</td>\n",
       "      <td>91.777924</td>\n",
       "      <td>23.700169</td>\n",
       "      <td>21.062679</td>\n",
       "      <td>40.121232</td>\n",
       "      <td>6.000008</td>\n",
       "    </tr>\n",
       "    <tr>\n",
       "      <th>min</th>\n",
       "      <td>-54.800000</td>\n",
       "      <td>-179.170000</td>\n",
       "      <td>-14.370000</td>\n",
       "      <td>10.000000</td>\n",
       "      <td>0.000000</td>\n",
       "      <td>0.270000</td>\n",
       "    </tr>\n",
       "    <tr>\n",
       "      <th>25%</th>\n",
       "      <td>-7.200000</td>\n",
       "      <td>-63.000000</td>\n",
       "      <td>44.190000</td>\n",
       "      <td>58.000000</td>\n",
       "      <td>1.000000</td>\n",
       "      <td>3.560000</td>\n",
       "    </tr>\n",
       "    <tr>\n",
       "      <th>50%</th>\n",
       "      <td>22.680000</td>\n",
       "      <td>21.870000</td>\n",
       "      <td>65.230000</td>\n",
       "      <td>76.000000</td>\n",
       "      <td>40.000000</td>\n",
       "      <td>6.930000</td>\n",
       "    </tr>\n",
       "    <tr>\n",
       "      <th>75%</th>\n",
       "      <td>46.620000</td>\n",
       "      <td>100.950000</td>\n",
       "      <td>77.130000</td>\n",
       "      <td>87.000000</td>\n",
       "      <td>90.000000</td>\n",
       "      <td>10.980000</td>\n",
       "    </tr>\n",
       "    <tr>\n",
       "      <th>max</th>\n",
       "      <td>78.220000</td>\n",
       "      <td>179.320000</td>\n",
       "      <td>99.360000</td>\n",
       "      <td>100.000000</td>\n",
       "      <td>100.000000</td>\n",
       "      <td>43.620000</td>\n",
       "    </tr>\n",
       "  </tbody>\n",
       "</table>\n",
       "</div>"
      ],
      "text/plain": [
       "         Latitude   Longitude    Temp (F)  Humidity (%)  Cloudiness (%)  \\\n",
       "count  537.000000  537.000000  537.000000    537.000000      537.000000   \n",
       "mean    20.000950   17.974655   58.870726     70.698324       47.055866   \n",
       "std     33.112324   91.777924   23.700169     21.062679       40.121232   \n",
       "min    -54.800000 -179.170000  -14.370000     10.000000        0.000000   \n",
       "25%     -7.200000  -63.000000   44.190000     58.000000        1.000000   \n",
       "50%     22.680000   21.870000   65.230000     76.000000       40.000000   \n",
       "75%     46.620000  100.950000   77.130000     87.000000       90.000000   \n",
       "max     78.220000  179.320000   99.360000    100.000000      100.000000   \n",
       "\n",
       "       Wind Speed (mph)  \n",
       "count        537.000000  \n",
       "mean           8.089236  \n",
       "std            6.000008  \n",
       "min            0.270000  \n",
       "25%            3.560000  \n",
       "50%            6.930000  \n",
       "75%           10.980000  \n",
       "max           43.620000  "
      ]
     },
     "execution_count": 41,
     "metadata": {},
     "output_type": "execute_result"
    }
   ],
   "source": [
    "city_data.describe()"
   ]
  },
  {
   "cell_type": "markdown",
   "metadata": {},
   "source": [
    "## Inspect the data and remove the cities where the humidity > 100%.\n",
    "----\n",
    "Skip this step if there are no cities that have humidity > 100%. "
   ]
  },
  {
   "cell_type": "code",
   "execution_count": 42,
   "metadata": {},
   "outputs": [
    {
     "data": {
      "text/html": [
       "<div>\n",
       "<style scoped>\n",
       "    .dataframe tbody tr th:only-of-type {\n",
       "        vertical-align: middle;\n",
       "    }\n",
       "\n",
       "    .dataframe tbody tr th {\n",
       "        vertical-align: top;\n",
       "    }\n",
       "\n",
       "    .dataframe thead th {\n",
       "        text-align: right;\n",
       "    }\n",
       "</style>\n",
       "<table border=\"1\" class=\"dataframe\">\n",
       "  <thead>\n",
       "    <tr style=\"text-align: right;\">\n",
       "      <th></th>\n",
       "      <th>City</th>\n",
       "      <th>Latitude</th>\n",
       "      <th>Longitude</th>\n",
       "      <th>Temp (F)</th>\n",
       "      <th>Humidity (%)</th>\n",
       "      <th>Cloudiness (%)</th>\n",
       "      <th>Wind Speed (mph)</th>\n",
       "    </tr>\n",
       "  </thead>\n",
       "  <tbody>\n",
       "  </tbody>\n",
       "</table>\n",
       "</div>"
      ],
      "text/plain": [
       "Empty DataFrame\n",
       "Columns: [City, Latitude, Longitude, Temp (F), Humidity (%), Cloudiness (%), Wind Speed (mph)]\n",
       "Index: []"
      ]
     },
     "execution_count": 42,
     "metadata": {},
     "output_type": "execute_result"
    }
   ],
   "source": [
    "# Check for cities with Humidity greater than 100\n",
    "Humid = city_data.loc[(city_data['Humidity (%)']>100)]\n",
    "Humid"
   ]
  },
  {
   "cell_type": "code",
   "execution_count": 43,
   "metadata": {},
   "outputs": [],
   "source": [
    "#  Get the indices of cities that have humidity over 100%.\n",
    "humid100 = city_data[(city_data['Humidity (%)']>100)].index"
   ]
  },
  {
   "cell_type": "code",
   "execution_count": 44,
   "metadata": {},
   "outputs": [],
   "source": [
    "# Make a new DataFrame equal to the city data to drop all humidity outliers by index.\n",
    "# Passing \"inplace=False\" will make a copy of the city_data DataFrame, which we call \"clean_city_data\".\n",
    "clean_city_data = city_data.drop(humid100, inplace=False)"
   ]
  },
  {
   "cell_type": "code",
   "execution_count": 45,
   "metadata": {},
   "outputs": [
    {
     "name": "stdout",
     "output_type": "stream",
     "text": [
      "537\n"
     ]
    }
   ],
   "source": [
    "# Display Clean DataFrame\n",
    "clean_city_data.head()\n",
    "print(len(clean_city_data))"
   ]
  },
  {
   "cell_type": "markdown",
   "metadata": {},
   "source": [
    "## Plotting the Data\n",
    "* Use proper labeling of the plots using plot titles (including date of analysis) and axes labels.\n",
    "* Save the plotted figures as .pngs."
   ]
  },
  {
   "cell_type": "markdown",
   "metadata": {},
   "source": [
    "## Latitude vs. Temperature Plot"
   ]
  },
  {
   "cell_type": "code",
   "execution_count": 46,
   "metadata": {
    "scrolled": true
   },
   "outputs": [
    {
     "data": {
      "image/png": "[encoded data removed]",
      "text/plain": [
       "<Figure size 432x288 with 1 Axes>"
      ]
     },
     "metadata": {
      "needs_background": "light"
     },
     "output_type": "display_data"
    }
   ],
   "source": [
    "Lats = clean_city_data[\"Latitude\"] \n",
    "Temp = clean_city_data[\"Temp (F)\"]\n",
    "plt.scatter(Lats, Temp)\n",
    "plt.title(\"Latitude vs Temperature (F)\")\n",
    "plt.xlabel(\"Latitude (deg)\")\n",
    "plt.ylabel(\"Temperature (F)\")\n",
    "plt.savefig(\"Plots/Temp_v_Latitude\")\n",
    "plt.show()"
   ]
  },
  {
   "cell_type": "markdown",
   "metadata": {},
   "source": [
    "The above plot titled 'Latitude vs Temperature (F)' is analyzing the current temperature compared to its latitudinal position."
   ]
  },
  {
   "cell_type": "markdown",
   "metadata": {},
   "source": [
    "## Latitude vs. Humidity Plot"
   ]
  },
  {
   "cell_type": "code",
   "execution_count": 47,
   "metadata": {},
   "outputs": [
    {
     "data": {
      "image/png": "[encoded data removed]",
      "text/plain": [
       "<Figure size 432x288 with 1 Axes>"
      ]
     },
     "metadata": {
      "needs_background": "light"
     },
     "output_type": "display_data"
    }
   ],
   "source": [
    "humidity = clean_city_data[\"Humidity (%)\"]\n",
    "plt.scatter(Lats, humidity)\n",
    "plt.title(\"Latitude vs Humidity (%)\")\n",
    "plt.xlabel(\"Latitude (deg)\")\n",
    "plt.ylabel(\"Humidity (%)\")\n",
    "plt.savefig(\"Plots/Humidity_v_Latitude\")\n",
    "plt.show()"
   ]
  },
  {
   "cell_type": "markdown",
   "metadata": {},
   "source": [
    "The above plot titled 'Latitude vs Humdity (%)' is analyzing the current humidity for the day compared to its latitudinal position."
   ]
  },
  {
   "cell_type": "markdown",
   "metadata": {},
   "source": [
    "## Latitude vs. Cloudiness Plot"
   ]
  },
  {
   "cell_type": "code",
   "execution_count": 48,
   "metadata": {},
   "outputs": [
    {
     "data": {
      "image/png": "[encoded data removed]",
      "text/plain": [
       "<Figure size 432x288 with 1 Axes>"
      ]
     },
     "metadata": {
      "needs_background": "light"
     },
     "output_type": "display_data"
    }
   ],
   "source": [
    "clouds = clean_city_data[\"Cloudiness (%)\"]\n",
    "plt.scatter(Lats, clouds)\n",
    "plt.title(\"Latitude vs Cloudiness (%)\")\n",
    "plt.xlabel(\"Latitude (deg)\")\n",
    "plt.ylabel(\"Cloudiness (%)\")\n",
    "plt.savefig(\"Plots/Cloudiness_v_Latitude\")\n",
    "plt.show()"
   ]
  },
  {
   "cell_type": "markdown",
   "metadata": {},
   "source": [
    "The above plot titled 'Latitude vs Cloudiness (%)' is analyzing the current cloud cover percentage compared to its latitudinal position."
   ]
  },
  {
   "cell_type": "markdown",
   "metadata": {},
   "source": [
    "## Latitude vs. Wind Speed Plot"
   ]
  },
  {
   "cell_type": "code",
   "execution_count": 49,
   "metadata": {},
   "outputs": [
    {
     "data": {
      "image/png": "[encoded data removed]",
      "text/plain": [
       "<Figure size 432x288 with 1 Axes>"
      ]
     },
     "metadata": {
      "needs_background": "light"
     },
     "output_type": "display_data"
    }
   ],
   "source": [
    "windy = clean_city_data[\"Wind Speed (mph)\"]\n",
    "plt.scatter(Lats, windy)\n",
    "plt.title(\"Latitude vs Wind Speed (mph)\")\n",
    "plt.xlabel(\"Latitude (deg)\")\n",
    "plt.ylabel(\"Wind Speed (mph)\")\n",
    "plt.savefig(\"Plots/WindSpeed_v_Latitude\")\n",
    "plt.show()"
   ]
  },
  {
   "cell_type": "markdown",
   "metadata": {},
   "source": [
    "The above plot titled 'Latitude vs Wind Speed (mph)' is analyzing the current wind speed for the day compared to its latitudinal position."
   ]
  },
  {
   "cell_type": "markdown",
   "metadata": {},
   "source": [
    "## Linear Regression"
   ]
  },
  {
   "cell_type": "code",
   "execution_count": 50,
   "metadata": {},
   "outputs": [],
   "source": [
    "northernlats = clean_city_data.loc[(clean_city_data['Latitude']>0)].reset_index()\n",
    "southernlats =clean_city_data.loc[(clean_city_data['Latitude']<0)].reset_index()"
   ]
  },
  {
   "cell_type": "markdown",
   "metadata": {},
   "source": [
    "####  Northern Hemisphere - Max Temp vs. Latitude Linear Regression"
   ]
  },
  {
   "cell_type": "code",
   "execution_count": 51,
   "metadata": {
    "scrolled": true
   },
   "outputs": [
    {
     "name": "stdout",
     "output_type": "stream",
     "text": [
      "The correlation between temperature and latitude for the northern hemisphere is -0.9\n",
      "The final r-squared value is 0.81\n"
     ]
    },
    {
     "data": {
      "image/png": "[encoded data removed]",
      "text/plain": [
       "<Figure size 432x288 with 1 Axes>"
      ]
     },
     "metadata": {
      "needs_background": "light"
     },
     "output_type": "display_data"
    }
   ],
   "source": [
    "import scipy.stats as st\n",
    "from scipy.stats import linregress\n",
    "northlats = northernlats['Latitude']\n",
    "northtemp = northernlats['Temp (F)']\n",
    "(slope, intercept, rvalue, pvalue, stderr) = st.linregress(northlats, northtemp)\n",
    "regress_values = northlats * slope + intercept\n",
    "line_eq = \"y = \" + str(round(slope,2)) + \"x + \" + str(round(intercept,2))\n",
    "correlation=st.pearsonr(northlats, northtemp)\n",
    "print(f\"The correlation between temperature and latitude for the northern hemisphere is {round(correlation[0],2)}\")\n",
    "print(f\"The final r-squared value is {round((rvalue**2),2)}\")\n",
    "plt.scatter(northlats, northtemp)\n",
    "plt.plot(northlats, regress_values, '-r')\n",
    "plt.title(\"Northern Hemisphere Latitude vs Temperature (F)\")\n",
    "plt.xlabel(\"Latitude (deg)\")\n",
    "plt.ylabel(\"Temperature (F)\")\n",
    "plt.annotate(line_eq,(18,0),fontsize=15,color=\"red\")\n",
    "plt.savefig(\"Plots/Temp_v_Latitude_Northern_Hemisphere\")\n",
    "plt.show()\n"
   ]
  },
  {
   "cell_type": "markdown",
   "metadata": {},
   "source": [
    "####  Southern Hemisphere - Max Temp vs. Latitude Linear Regression"
   ]
  },
  {
   "cell_type": "code",
   "execution_count": 68,
   "metadata": {},
   "outputs": [
    {
     "name": "stdout",
     "output_type": "stream",
     "text": [
      "The correlation between temperature and latitude for the southern hemisphere is 0.74\n",
      "The final r-squared value is 0.55\n"
     ]
    },
    {
     "data": {
      "image/png": "[encoded data removed]",
      "text/plain": [
       "<Figure size 432x288 with 1 Axes>"
      ]
     },
     "metadata": {
      "needs_background": "light"
     },
     "output_type": "display_data"
    }
   ],
   "source": [
    "southlats = southernlats['Latitude']\n",
    "southtemp = southernlats['Temp (F)']\n",
    "(slope, intercept, rvalue, pvalue, stderr) = st.linregress(southlats, southtemp)\n",
    "regress_values = southlats * slope + intercept\n",
    "line_eq = \"y = \" + str(round(slope,2)) + \"x + \" + str(round(intercept,2))\n",
    "correlation=st.pearsonr(southlats, southtemp)\n",
    "print(f\"The correlation between temperature and latitude for the southern hemisphere is {round(correlation[0],2)}\")\n",
    "print(f\"The final r-squared value is {round((rvalue**2),2)}\")\n",
    "plt.scatter(southlats, southtemp)\n",
    "plt.plot(southlats, regress_values, '-r')\n",
    "plt.title(\"Southern Hemisphere Latitude vs Temperature (F)\")\n",
    "plt.xlabel(\"Latitude (deg)\")\n",
    "plt.ylabel(\"Temperature (F)\")\n",
    "plt.annotate(line_eq,(-22,50),fontsize=15,color=\"red\")\n",
    "plt.savefig(\"Plots/Temp_v_Latitude_Southern_Hemisphere\")\n",
    "plt.show()"
   ]
  },
  {
   "cell_type": "markdown",
   "metadata": {},
   "source": [
    "The linear regression model of the temperature compared to its latitudinal position in the northern hemisphere shows a very strong negative correlation between the two variables.  About 81% of the variability in temperature can be attributed to its latitudinal position.  In the southern hemisphere, there is a strong positive correlation between the latitudinal position and temperature reading.  Only 55% of the variability can be attributed to its latitudinal position.  Both graphs show that as you move closer to the equator, temperatures increase."
   ]
  },
  {
   "cell_type": "markdown",
   "metadata": {},
   "source": [
    "####  Northern Hemisphere - Humidity (%) vs. Latitude Linear Regression"
   ]
  },
  {
   "cell_type": "code",
   "execution_count": 66,
   "metadata": {},
   "outputs": [
    {
     "name": "stdout",
     "output_type": "stream",
     "text": [
      "The correlation between humidity and latitude for the northern hemisphere is 0.42\n",
      "The final r-squared value is 0.17\n"
     ]
    },
    {
     "data": {
      "image/png": "[encoded data removed]",
      "text/plain": [
       "<Figure size 432x288 with 1 Axes>"
      ]
     },
     "metadata": {
      "needs_background": "light"
     },
     "output_type": "display_data"
    }
   ],
   "source": [
    "northhumid = northernlats['Humidity (%)']\n",
    "(slope, intercept, rvalue, pvalue, stderr) = st.linregress(northlats, northhumid)\n",
    "regress_humid = northlats * slope + intercept\n",
    "line_eq = \"y = \" + str(round(slope,2)) + \"x + \" + str(round(intercept,2))\n",
    "correlation=st.pearsonr(northlats, northhumid)\n",
    "print(f\"The correlation between humidity and latitude for the northern hemisphere is {round(correlation[0],2)}\")\n",
    "print(f\"The final r-squared value is {round((rvalue**2),2)}\")\n",
    "plt.scatter(northlats, northhumid)\n",
    "plt.plot(northlats, regress_humid, '-r')\n",
    "plt.title(\"Northern Hemisphere Latitude vs Humidity (%)\")\n",
    "plt.xlabel(\"Latitude (deg)\")\n",
    "plt.ylabel(\"Humidity (%)\")\n",
    "plt.annotate(line_eq,(50,40),fontsize=15,color=\"red\")\n",
    "plt.savefig(\"Plots/Humidity_v_Latitude_Northern_Hemisphere\")\n",
    "plt.show()"
   ]
  },
  {
   "cell_type": "markdown",
   "metadata": {},
   "source": [
    "####  Southern Hemisphere - Humidity (%) vs. Latitude Linear Regression"
   ]
  },
  {
   "cell_type": "code",
   "execution_count": 64,
   "metadata": {},
   "outputs": [
    {
     "name": "stdout",
     "output_type": "stream",
     "text": [
      "The correlation between humidity and latitude for the southern hemisphere is 0.13\n",
      "The final r-squared value is 0.02\n"
     ]
    },
    {
     "data": {
      "image/png": "[encoded data removed]",
      "text/plain": [
       "<Figure size 432x288 with 1 Axes>"
      ]
     },
     "metadata": {
      "needs_background": "light"
     },
     "output_type": "display_data"
    }
   ],
   "source": [
    "southhumid = southernlats['Humidity (%)']\n",
    "(slope, intercept, rvalue, pvalue, stderr) = st.linregress(southlats, southhumid)\n",
    "regress_values = southlats * slope + intercept\n",
    "line_eq = \"y = \" + str(round(slope,2)) + \"x + \" + str(round(intercept,2))\n",
    "correlation=st.pearsonr(southlats, southhumid)\n",
    "print(f\"The correlation between humidity and latitude for the southern hemisphere is {round(correlation[0],2)}\")\n",
    "print(f\"The final r-squared value is {round((rvalue**2),2)}\")\n",
    "plt.scatter(southlats, southhumid)\n",
    "plt.plot(southlats, regress_values, '-r')\n",
    "plt.title(\"Southern Hemisphere Latitude vs Humidity (%)\")\n",
    "plt.xlabel(\"Latitude (deg)\")\n",
    "plt.ylabel(\"Humidity (%)\")\n",
    "plt.annotate(line_eq,(-57,20),fontsize=15,color=\"red\")\n",
    "plt.savefig(\"Plots/Humidity_v_Latitude_Southern_Hemisphere\")\n",
    "plt.show()"
   ]
  },
  {
   "cell_type": "markdown",
   "metadata": {},
   "source": [
    "The linear regression model of the humidity compared to its latitudinal position in the northern hemisphere shows a strong positive relationship. Where as the relationship between humidity and position in the southern hemisphere is negligable."
   ]
  },
  {
   "cell_type": "markdown",
   "metadata": {},
   "source": [
    "####  Northern Hemisphere - Cloudiness (%) vs. Latitude Linear Regression"
   ]
  },
  {
   "cell_type": "code",
   "execution_count": 63,
   "metadata": {},
   "outputs": [
    {
     "name": "stdout",
     "output_type": "stream",
     "text": [
      "The correlation between cloudiness and latitude for the northern hemisphere is 0.29\n",
      "The final r-squared value is 0.08\n"
     ]
    },
    {
     "data": {
      "image/png": "[encoded data removed]",
      "text/plain": [
       "<Figure size 432x288 with 1 Axes>"
      ]
     },
     "metadata": {
      "needs_background": "light"
     },
     "output_type": "display_data"
    }
   ],
   "source": [
    "northcloud = northernlats['Cloudiness (%)']\n",
    "(slope, intercept, rvalue, pvalue, stderr) = st.linregress(northlats, northcloud)\n",
    "regress_cloud = northlats * slope + intercept\n",
    "line_eq = \"y = \" + str(round(slope,2)) + \"x + \" + str(round(intercept,2))\n",
    "correlation=st.pearsonr(northlats, northcloud)\n",
    "print(f\"The correlation between cloudiness and latitude for the northern hemisphere is {round(correlation[0],2)}\")\n",
    "print(f\"The final r-squared value is {round((rvalue**2),2)}\")\n",
    "plt.scatter(northlats, northcloud)\n",
    "plt.plot(northlats, regress_cloud, '-r')\n",
    "plt.title(\"Northern Hemisphere Latitude vs Cloudiness (%)\")\n",
    "plt.xlabel(\"Latitude (deg)\")\n",
    "plt.ylabel(\"Cloudiness (%)\")\n",
    "plt.annotate(line_eq,(18,10),fontsize=15,color=\"red\")\n",
    "plt.savefig(\"Plots/Cloudiness_v_Latitude_Northern_Hemisphere\")\n",
    "plt.show()"
   ]
  },
  {
   "cell_type": "markdown",
   "metadata": {},
   "source": [
    "####  Southern Hemisphere - Cloudiness (%) vs. Latitude Linear Regression"
   ]
  },
  {
   "cell_type": "code",
   "execution_count": 56,
   "metadata": {},
   "outputs": [
    {
     "name": "stdout",
     "output_type": "stream",
     "text": [
      "The correlation between cloudiness and latitude for the southern hemisphere is 0.41\n",
      "The final r-squared value is 0.16\n"
     ]
    },
    {
     "data": {
      "image/png": "[encoded data removed]",
      "text/plain": [
       "<Figure size 432x288 with 1 Axes>"
      ]
     },
     "metadata": {
      "needs_background": "light"
     },
     "output_type": "display_data"
    }
   ],
   "source": [
    "southcloud = southernlats['Cloudiness (%)']\n",
    "(slope, intercept, rvalue, pvalue, stderr) = st.linregress(southlats, southcloud)\n",
    "regress_values = southlats * slope + intercept\n",
    "line_eq = \"y = \" + str(round(slope,2)) + \"x + \" + str(round(intercept,2))\n",
    "correlation=st.pearsonr(southlats, southcloud)\n",
    "print(f\"The correlation between cloudiness and latitude for the southern hemisphere is {round(correlation[0],2)}\")\n",
    "print(f\"The final r-squared value is {round((rvalue**2),2)}\")\n",
    "plt.scatter(southlats, southcloud)\n",
    "plt.plot(southlats, regress_values, '-r')\n",
    "plt.title(\"Southern Hemisphere Latitude vs Cloudiness (%)\")\n",
    "plt.xlabel(\"Latitude (deg)\")\n",
    "plt.ylabel(\"Cloudiness (%)\")\n",
    "plt.annotate(line_eq,(-18,20),fontsize=15,color=\"red\")\n",
    "plt.savefig(\"Plots/Cloudiness_v_Latitude_Southern_Hemisphere\")\n",
    "plt.show()"
   ]
  },
  {
   "cell_type": "markdown",
   "metadata": {},
   "source": [
    "The linear regression model of the cloudiness compared to its latitudinal position in the northern hemisphere shows a weak positive relationship. In the southern hemisphere, there is a strong positive relationship between the cloudiness and position."
   ]
  },
  {
   "cell_type": "markdown",
   "metadata": {},
   "source": [
    "####  Northern Hemisphere - Wind Speed (mph) vs. Latitude Linear Regression"
   ]
  },
  {
   "cell_type": "code",
   "execution_count": 57,
   "metadata": {},
   "outputs": [
    {
     "name": "stdout",
     "output_type": "stream",
     "text": [
      "The correlation between wind speed and latitude for the northern hemisphere is 0.09\n",
      "The final r-squared value is 0.01\n"
     ]
    },
    {
     "data": {
      "image/png": "[encoded data removed]",
      "text/plain": [
       "<Figure size 432x288 with 1 Axes>"
      ]
     },
     "metadata": {
      "needs_background": "light"
     },
     "output_type": "display_data"
    }
   ],
   "source": [
    "northwind = northernlats['Wind Speed (mph)']\n",
    "(slope, intercept, rvalue, pvalue, stderr) = st.linregress(northlats, northwind)\n",
    "regress_wind = northlats * slope + intercept\n",
    "line_eq = \"y = \" + str(round(slope,2)) + \"x + \" + str(round(intercept,2))\n",
    "correlation=st.pearsonr(northlats, northwind)\n",
    "print(f\"The correlation between wind speed and latitude for the northern hemisphere is {round(correlation[0],2)}\")\n",
    "print(f\"The final r-squared value is {round((rvalue**2),2)}\")\n",
    "plt.scatter(northlats, northwind)\n",
    "plt.plot(northlats, regress_wind, '-r')\n",
    "plt.title(\"Northern Hemisphere Latitude vs Wind Speed (mph)\")\n",
    "plt.xlabel(\"Latitude (deg)\")\n",
    "plt.ylabel(\"Wind Speed (mph)\")\n",
    "plt.annotate(line_eq,(18,35),fontsize=15,color=\"red\")\n",
    "plt.savefig(\"Plots/WindSpeed_v_Latitude_Northern_Hemisphere\")\n",
    "plt.show()"
   ]
  },
  {
   "cell_type": "markdown",
   "metadata": {},
   "source": [
    "####  Southern Hemisphere - Wind Speed (mph) vs. Latitude Linear Regression"
   ]
  },
  {
   "cell_type": "code",
   "execution_count": 62,
   "metadata": {},
   "outputs": [
    {
     "name": "stdout",
     "output_type": "stream",
     "text": [
      "The correlation between humidity and latitude for the southern hemisphere is -0.03\n",
      "The final r-squared value is 0.0\n"
     ]
    },
    {
     "data": {
      "image/png": "[encoded data removed]",
      "text/plain": [
       "<Figure size 432x288 with 1 Axes>"
      ]
     },
     "metadata": {
      "needs_background": "light"
     },
     "output_type": "display_data"
    }
   ],
   "source": [
    "southwind = southernlats['Wind Speed (mph)']\n",
    "(slope, intercept, rvalue, pvalue, stderr) = st.linregress(southlats, southwind)\n",
    "regress_values = southlats * slope + intercept\n",
    "line_eq = \"y = \" + str(round(slope,2)) + \"x + \" + str(round(intercept,2))\n",
    "correlation=st.pearsonr(southlats, southwind)\n",
    "print(f\"The correlation between humidity and latitude for the southern hemisphere is {round(correlation[0],2)}\")\n",
    "print(f\"The final r-squared value is {round((rvalue**2),2)}\")\n",
    "plt.scatter(southlats, southwind)\n",
    "plt.plot(southlats, regress_values, '-r')\n",
    "plt.title(\"Southern Hemisphere Latitude vs Wind Speed (mph)\")\n",
    "plt.xlabel(\"Latitude (deg)\")\n",
    "plt.ylabel(\"Wind Speed (mph)\")\n",
    "plt.annotate(line_eq,(-57,23),fontsize=15,color=\"red\")\n",
    "plt.savefig(\"Plots/WindSpeed_v_Latitude_Southern_Hemisphere\")\n",
    "plt.show()"
   ]
  },
  {
   "cell_type": "markdown",
   "metadata": {},
   "source": [
    "The linear regression model for wind speed compared to its latitudinal position shows negligiable correlation in both hemispheres.  Wind speed is independent of position."
   ]
  }
 ],
 "metadata": {
  "anaconda-cloud": {},
  "kernel_info": {
   "name": "python3"
  },
  "kernelspec": {
   "display_name": "Python [conda env:PythonData] *",
   "language": "python",
   "name": "conda-env-PythonData-py"
  },
  "language_info": {
   "codemirror_mode": {
    "name": "ipython",
    "version": 3
   },
   "file_extension": ".py",
   "mimetype": "text/x-python",
   "name": "python",
   "nbconvert_exporter": "python",
   "pygments_lexer": "ipython3",
   "version": "3.6.12"
  },
  "latex_envs": {
   "LaTeX_envs_menu_present": true,
   "autoclose": false,
   "autocomplete": true,
   "bibliofile": "biblio.bib",
   "cite_by": "apalike",
   "current_citInitial": 1,
   "eqLabelWithNumbers": true,
   "eqNumInitial": 1,
   "hotkeys": {
    "equation": "Ctrl-E",
    "itemize": "Ctrl-I"
   },
   "labels_anchors": false,
   "latex_user_defs": false,
   "report_style_numbering": false,
   "user_envs_cfg": false
  },
  "nteract": {
   "version": "0.12.3"
  }
 },
 "nbformat": 4,
 "nbformat_minor": 2
}
